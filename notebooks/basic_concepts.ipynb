{
 "cells": [
  {
   "cell_type": "code",
   "execution_count": 2,
   "metadata": {},
   "outputs": [
    {
     "name": "stderr",
     "output_type": "stream",
     "text": [
      "/usr/local/lib/python3.13/site-packages/tqdm/auto.py:21: TqdmWarning: IProgress not found. Please update jupyter and ipywidgets. See https://ipywidgets.readthedocs.io/en/stable/user_install.html\n",
      "  from .autonotebook import tqdm as notebook_tqdm\n"
     ]
    }
   ],
   "source": [
    "from llama_index.llms.gemini import Gemini\n",
    "import os\n",
    "\n",
    "llm = Gemini(\n",
    "    model=\"models/gemini-1.5-flash\",\n",
    "    api_key=os.environ['GOOGLE_API_KEY'],  # if commented out still uses GOOGLE_API_KEY env var by default\n",
    ")"
   ]
  },
  {
   "cell_type": "code",
   "execution_count": 3,
   "metadata": {},
   "outputs": [
    {
     "name": "stdout",
     "output_type": "stream",
     "text": [
      "A backpack worn, of woven thread,\n",
      "Not leather tough, nor canvas spread,\n",
      "But shimmering silk, a mystic hue,\n",
      "With starlight stitched, and morning dew.\n",
      "\n",
      "No zippers hold, no buckles bind,\n",
      "Its secrets deep, you'll surely find,\n",
      "Within its folds, a whispered plea,\n",
      "For wishes held, for you and me.\n",
      "\n",
      "A crumpled map, a faded scroll,\n",
      "A dragon's scale, a wishing hole,\n",
      "A tiny seed, a phoenix feather,\n",
      "All held within, beyond all weather.\n",
      "\n",
      "A whispered word, a gentle touch,\n",
      "And forth it pours, oh so much,\n",
      "A bubbling spring, a rainbow bright,\n",
      "A starlit night, a guiding light.\n",
      "\n",
      "But heed the warning, softly spoken,\n",
      "For magic's power, easily broken,\n",
      "With selfish greed, or careless hand,\n",
      "The magic fades, across the land.\n",
      "\n",
      "So use it wisely, use it well,\n",
      "The stories spun, the tales to tell,\n",
      "This magic pack, a wondrous thing,\n",
      "Will joy and wonder surely bring.\n",
      "\n"
     ]
    }
   ],
   "source": [
    "resp = llm.complete(\"Write a poem about a magic backpack\")\n",
    "print(resp)"
   ]
  }
 ],
 "metadata": {
  "kernelspec": {
   "display_name": "Python 3",
   "language": "python",
   "name": "python3"
  },
  "language_info": {
   "codemirror_mode": {
    "name": "ipython",
    "version": 3
   },
   "file_extension": ".py",
   "mimetype": "text/x-python",
   "name": "python",
   "nbconvert_exporter": "python",
   "pygments_lexer": "ipython3",
   "version": "3.13.2"
  }
 },
 "nbformat": 4,
 "nbformat_minor": 2
}
