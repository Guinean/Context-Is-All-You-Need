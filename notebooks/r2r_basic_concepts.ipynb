{
 "cells": [
  {
   "cell_type": "code",
   "execution_count": null,
   "metadata": {},
   "outputs": [],
   "source": [
    "from r2r import R2RClient"
   ]
  },
  {
   "cell_type": "code",
   "execution_count": null,
   "metadata": {},
   "outputs": [],
   "source": [
    "# ! python -m r2r.serve"
   ]
  },
  {
   "cell_type": "code",
   "execution_count": null,
   "metadata": {},
   "outputs": [],
   "source": [
    "client = R2RClient(\n",
    "    \"http://localhost:7272\"\n",
    ")  # optional, pass in \"http://localhost:7272\" or \"https://api.cloud.sciphi.ai\"\n",
    "\n",
    "with open(\"test.txt\", \"w\") as file:\n",
    "    file.write(\"John is a person that works at Google.\")\n",
    "\n",
    "client.documents.create(file_path=\"test.txt\")\n",
    "\n",
    "# Call RAG directly\n",
    "rag_response = client.retrieval.rag(\n",
    "    query=\"Who is john\",\n",
    "    rag_generation_config={\n",
    "        # \"model\": \"openai/gpt-4o-mini\",\n",
    "        \"temperature\": 1.0\n",
    "    },\n",
    ")\n",
    "results = rag_response.results\n",
    "\n",
    "print(f\"Search Results:\\n{results.search_results}\")\n",
    "# AggregateSearchResult(chunk_search_results=[ChunkSearchResult(score=0.685, text=John is a person that works at Google.)], graph_search_results=[], web_search_results=[], context_document_results=[])\n",
    "\n",
    "print(f\"Completion:\\n{results.completion}\")\n",
    "# John is a person that works at Google [1].\n"
   ]
  }
 ],
 "metadata": {
  "kernelspec": {
   "display_name": "Python 3",
   "language": "python",
   "name": "python3"
  },
  "language_info": {
   "codemirror_mode": {
    "name": "ipython",
    "version": 3
   },
   "file_extension": ".py",
   "mimetype": "text/x-python",
   "name": "python",
   "nbconvert_exporter": "python",
   "pygments_lexer": "ipython3",
   "version": "3.12.9"
  }
 },
 "nbformat": 4,
 "nbformat_minor": 2
}
